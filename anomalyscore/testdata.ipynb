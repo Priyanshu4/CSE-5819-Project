{
 "cells": [
  {
   "cell_type": "code",
   "execution_count": 1,
   "metadata": {},
   "outputs": [
    {
     "name": "stdout",
     "output_type": "stream",
     "text": [
      "[[1 0 0 ... 1 1 1]\n",
      " [1 0 0 ... 1 1 0]\n",
      " [0 1 1 ... 1 1 1]\n",
      " ...\n",
      " [1 0 0 ... 1 0 1]\n",
      " [0 1 1 ... 0 1 0]\n",
      " [1 0 0 ... 1 0 1]]\n"
     ]
    }
   ],
   "source": [
    "import numpy as np\n",
    "\n",
    "# Generating a random adjacency matrix with 1s and 0s\n",
    "num_rows = 21\n",
    "num_cols = 50\n",
    "\n",
    "adjacency_matrix = np.random.randint(0, 2, size=(num_rows, num_cols))\n",
    "\n",
    "print(adjacency_matrix)\n"
   ]
  },
  {
   "cell_type": "code",
   "execution_count": 2,
   "metadata": {},
   "outputs": [],
   "source": [
    "outer_array = np.array([\n",
    "    [1, 0, 1, 0, 1],\n",
    "    [0, 1, 0, 1, 0],\n",
    "    [1, 1, 0, 0, 1]\n",
    "])\n"
   ]
  },
  {
   "cell_type": "code",
   "execution_count": 4,
   "metadata": {},
   "outputs": [
    {
     "data": {
      "text/plain": [
       "8"
      ]
     },
     "execution_count": 4,
     "metadata": {},
     "output_type": "execute_result"
    }
   ],
   "source": [
    "np.sum(outer_array)"
   ]
  },
  {
   "cell_type": "code",
   "execution_count": 11,
   "metadata": {},
   "outputs": [
    {
     "name": "stdout",
     "output_type": "stream",
     "text": [
      "1\n",
      "1\n"
     ]
    }
   ],
   "source": [
    "from bitarray import bitarray\n",
    "\n",
    "# Example bitarray\n",
    "ba = bitarray('1000')\n",
    "\n",
    "# Count the number of ones (set bits) in the bitarray\n",
    "count_ones = ba.count()\n",
    "print(count_ones)  # Output: 4 (count of ones in the bitarray)\n"
   ]
  },
  {
   "cell_type": "code",
   "execution_count": 22,
   "metadata": {},
   "outputs": [
    {
     "name": "stdout",
     "output_type": "stream",
     "text": [
      "[1 2 3 4 5 6 8]\n"
     ]
    }
   ],
   "source": [
    "import numpy as np\n",
    "from functools import reduce\n",
    "\n",
    "# Example array containing arrays\n",
    "arrays = [\n",
    "    np.array([1, 2, 3, 4,5]),\n",
    "    np.array([3, 4, 5, 6]),\n",
    "    np.array([2, 4, 6, 5,8])\n",
    "]\n",
    "\n",
    "# Find the intersection of all arrays in the list\n",
    "intersection = reduce(np.union1d, arrays)\n",
    "\n",
    "print(intersection)\n"
   ]
  },
  {
   "cell_type": "code",
   "execution_count": null,
   "metadata": {},
   "outputs": [],
   "source": [
    "def jaccard_similarity( s1, s2):\n",
    "        \"\"\"\n",
    "        Compute Jaccard similarity between two NumPy arrays.\n",
    "\n",
    "        INPUTS:\n",
    "        s1 (ndarr) - first array.\n",
    "        s2 (ndarr) - second array.\n",
    "        \n",
    "        OUTPUTS:\n",
    "        js -  Jaccard similarity coefficient.\n",
    "        \"\"\"\n",
    "        intersection = np.intersect1d(s1, s2)\n",
    "        union = np.union1d(s1, s2)\n",
    "        \n",
    "        # Handle zero division error if union is empty\n",
    "        if len(union) == 0:\n",
    "            return 0.0\n",
    "        \n",
    "        js = len(intersection) / len(union)\n",
    "        return js\n",
    "    \n",
    "def sum_jaccard(self, arrays):\n",
    "    # Compute Jaccard similarity between all pairs and sum the scores\n",
    "    similarity_scores = [\n",
    "        self.jaccard_similarity(arrays[i], arrays[j])\n",
    "        for i in range(len(arrays))\n",
    "        for j in range(i + 1, len(arrays))\n",
    "    ]\n",
    "    \n",
    "    return sum(similarity_scores)\n"
   ]
  },
  {
   "cell_type": "code",
   "execution_count": 23,
   "metadata": {},
   "outputs": [
    {
     "name": "stdout",
     "output_type": "stream",
     "text": [
      "Sum per row:\n",
      "[[3]\n",
      " [3]\n",
      " [9]]\n"
     ]
    }
   ],
   "source": [
    "import numpy as np\n",
    "from scipy.sparse import csr_matrix\n",
    "\n",
    "# Assuming csr_matrix is your CSR matrix\n",
    "# Example csr_matrix creation\n",
    "data = np.array([[1, 2, 0], [0, 0, 3], [4, 0, 5]])  # Example data for the CSR matrix\n",
    "csr_matrix = csr_matrix(data)\n",
    "\n",
    "# Compute the sum along rows (axis=1)\n",
    "sum_per_row = csr_matrix.sum(axis=1)\n",
    "\n",
    "print(\"Sum per row:\")\n",
    "print(sum_per_row)\n"
   ]
  },
  {
   "cell_type": "code",
   "execution_count": null,
   "metadata": {},
   "outputs": [],
   "source": []
  }
 ],
 "metadata": {
  "kernelspec": {
   "display_name": "base",
   "language": "python",
   "name": "python3"
  },
  "language_info": {
   "codemirror_mode": {
    "name": "ipython",
    "version": 3
   },
   "file_extension": ".py",
   "mimetype": "text/x-python",
   "name": "python",
   "nbconvert_exporter": "python",
   "pygments_lexer": "ipython3",
   "version": "3.9.18"
  }
 },
 "nbformat": 4,
 "nbformat_minor": 2
}
