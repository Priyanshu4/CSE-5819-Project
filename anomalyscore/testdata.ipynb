{
 "cells": [
  {
   "cell_type": "code",
   "execution_count": 1,
   "metadata": {},
   "outputs": [
    {
     "name": "stdout",
     "output_type": "stream",
     "text": [
      "[[1 0 0 ... 1 1 1]\n",
      " [1 0 0 ... 1 1 0]\n",
      " [0 1 1 ... 1 1 1]\n",
      " ...\n",
      " [1 0 0 ... 1 0 1]\n",
      " [0 1 1 ... 0 1 0]\n",
      " [1 0 0 ... 1 0 1]]\n"
     ]
    }
   ],
   "source": [
    "import numpy as np\n",
    "\n",
    "# Generating a random adjacency matrix with 1s and 0s\n",
    "num_rows = 21\n",
    "num_cols = 50\n",
    "\n",
    "adjacency_matrix = np.random.randint(0, 2, size=(num_rows, num_cols))\n",
    "\n",
    "print(adjacency_matrix)\n"
   ]
  },
  {
   "cell_type": "code",
   "execution_count": 2,
   "metadata": {},
   "outputs": [],
   "source": [
    "outer_array = np.array([\n",
    "    [1, 0, 1, 0, 1],\n",
    "    [0, 1, 0, 1, 0],\n",
    "    [1, 1, 0, 0, 1]\n",
    "])\n"
   ]
  },
  {
   "cell_type": "code",
   "execution_count": 4,
   "metadata": {},
   "outputs": [
    {
     "data": {
      "text/plain": [
       "8"
      ]
     },
     "execution_count": 4,
     "metadata": {},
     "output_type": "execute_result"
    }
   ],
   "source": [
    "np.sum(outer_array)"
   ]
  },
  {
   "cell_type": "code",
   "execution_count": 11,
   "metadata": {},
   "outputs": [
    {
     "name": "stdout",
     "output_type": "stream",
     "text": [
      "1\n",
      "1\n"
     ]
    }
   ],
   "source": [
    "from bitarray import bitarray\n",
    "\n",
    "# Example bitarray\n",
    "ba = bitarray('1000')\n",
    "\n",
    "# Count the number of ones (set bits) in the bitarray\n",
    "count_ones = ba.count()\n",
    "print(count_ones)  # Output: 4 (count of ones in the bitarray)\n"
   ]
  },
  {
   "cell_type": "code",
   "execution_count": 22,
   "metadata": {},
   "outputs": [
    {
     "name": "stdout",
     "output_type": "stream",
     "text": [
      "[1 2 3 4 5 6 8]\n"
     ]
    }
   ],
   "source": [
    "import numpy as np\n",
    "from functools import reduce\n",
    "\n",
    "# Example array containing arrays\n",
    "arrays = [\n",
    "    np.array([1, 2, 3, 4,5]),\n",
    "    np.array([3, 4, 5, 6]),\n",
    "    np.array([2, 4, 6, 5,8])\n",
    "]\n",
    "\n",
    "# Find the intersection of all arrays in the list\n",
    "intersection = reduce(np.union1d, arrays)\n",
    "\n",
    "print(intersection)\n"
   ]
  },
  {
   "cell_type": "code",
   "execution_count": null,
   "metadata": {},
   "outputs": [],
   "source": [
    "def jaccard_similarity( s1, s2):\n",
    "        \"\"\"\n",
    "        Compute Jaccard similarity between two NumPy arrays.\n",
    "\n",
    "        INPUTS:\n",
    "        s1 (ndarr) - first array.\n",
    "        s2 (ndarr) - second array.\n",
    "        \n",
    "        OUTPUTS:\n",
    "        js -  Jaccard similarity coefficient.\n",
    "        \"\"\"\n",
    "        intersection = np.intersect1d(s1, s2)\n",
    "        union = np.union1d(s1, s2)\n",
    "        \n",
    "        # Handle zero division error if union is empty\n",
    "        if len(union) == 0:\n",
    "            return 0.0\n",
    "        \n",
    "        js = len(intersection) / len(union)\n",
    "        return js\n",
    "    \n",
    "def sum_jaccard(self, arrays):\n",
    "    # Compute Jaccard similarity between all pairs and sum the scores\n",
    "    similarity_scores = [\n",
    "        self.jaccard_similarity(arrays[i], arrays[j])\n",
    "        for i in range(len(arrays))\n",
    "        for j in range(i + 1, len(arrays))\n",
    "    ]\n",
    "    \n",
    "    return sum(similarity_scores)\n"
   ]
  },
  {
   "cell_type": "code",
   "execution_count": 47,
   "metadata": {},
   "outputs": [
    {
     "name": "stdout",
     "output_type": "stream",
     "text": [
      "[[0.  0.  3.5]\n",
      " [0.  0.  4. ]\n",
      " [5.6 0.  6.1]]\n",
      "[[0.  0.  2.5]\n",
      " [0.  0.  3. ]\n",
      " [4.6 0.  5.1]]\n",
      "[2.5  3.   4.85]\n"
     ]
    }
   ],
   "source": [
    "import numpy as np\n",
    "from scipy.sparse import csr_matrix\n",
    "\n",
    "# Create two matrices of the same dimensions (random example)\n",
    "dense_matrix = np.array([[1.2, 2, 3.5], [0, 3, 4], [5.6, 0, 6.1]])\n",
    "sparse_data = [[0, 0, 1], [0, 0, 1], [1, 0, 1]]\n",
    "sparse_matrix = csr_matrix(sparse_data)\n",
    "\n",
    "# Perform element-wise multiplication to extract nonzeros\n",
    "result_matrix = dense_matrix * sparse_matrix.toarray()\n",
    "data2 = np.array([[0, 0, 1], [0, 0, 1], [1, 0, 1]])\n",
    "\n",
    "norm = sparse_matrix @ [1,1,1]\n",
    "\n",
    "print(result_matrix)\n",
    "print(result_matrix-data2)\n",
    "print(np.abs(result_matrix-data2) @ [1,1,1] / norm) "
   ]
  },
  {
   "cell_type": "code",
   "execution_count": 60,
   "metadata": {},
   "outputs": [
    {
     "name": "stdout",
     "output_type": "stream",
     "text": [
      "[ 0  1  2  3  4  5  6  7  8  9 10 11 12 13 14 15 16 17 18 19 20]\n",
      "[19  1 16 17  8 13  9] [20  2 12  7 11 15 14] [ 5  0  6 18 10  4  3]\n",
      "[1]\n",
      "[ 1 16]\n",
      "[ 9  1 16  8 17]\n"
     ]
    }
   ],
   "source": [
    "large = np.array(range(21))\n",
    "\n",
    "shuffled_indices = np.random.permutation(num_rows)\n",
    "\n",
    "# Calculate the number of rows for each group\n",
    "group_size = num_rows // 3\n",
    "\n",
    "# Split the shuffled indices into three equal-sized groups\n",
    "group1_indices = shuffled_indices[:group_size]\n",
    "group2_indices = shuffled_indices[group_size:2 * group_size]\n",
    "group3_indices = shuffled_indices[2 * group_size:]\n",
    "\n",
    "# Use the indices to split the matrix into three groups\n",
    "group1 = large[group1_indices]\n",
    "group2 = large[group2_indices]\n",
    "group3 = large[group3_indices]\n",
    "\n",
    "print(large)\n",
    "print(group1,group2,group3)\n",
    "leaves = [[1],[1,2],[6,1,2,4,3]]\n",
    "for leaf in leaves:\n",
    "    print(group1[leaf])\n"
   ]
  },
  {
   "cell_type": "code",
   "execution_count": 63,
   "metadata": {},
   "outputs": [
    {
     "name": "stdout",
     "output_type": "stream",
     "text": [
      "[ 0  1  2  3  4  5  6  7  8  9 10 11 12 13 14 15 16 17 18 19 20]\n",
      "[19  1 16 17  8 13  9] [20  2 12  7 11 15 14] [ 5  0  6 18 10  4  3]\n",
      "[1]\n",
      "[ 1 16]\n",
      "[ 9  1 16  8 17]\n"
     ]
    }
   ],
   "source": [
    "print(large)\n",
    "print(group1,group2,group3)\n",
    "leaves = [[1],[1,2],[6,1,2,4,3]]\n",
    "for leaf in leaves:\n",
    "    print(group1[leaf])"
   ]
  },
  {
   "cell_type": "code",
   "execution_count": 64,
   "metadata": {},
   "outputs": [
    {
     "name": "stdout",
     "output_type": "stream",
     "text": [
      "[1. 1.]\n"
     ]
    }
   ],
   "source": [
    "print(np.ones(2))"
   ]
  },
  {
   "cell_type": "code",
   "execution_count": null,
   "metadata": {},
   "outputs": [],
   "source": []
  }
 ],
 "metadata": {
  "kernelspec": {
   "display_name": "base",
   "language": "python",
   "name": "python3"
  },
  "language_info": {
   "codemirror_mode": {
    "name": "ipython",
    "version": 3
   },
   "file_extension": ".py",
   "mimetype": "text/x-python",
   "name": "python",
   "nbconvert_exporter": "python",
   "pygments_lexer": "ipython3",
   "version": "3.9.18"
  }
 },
 "nbformat": 4,
 "nbformat_minor": 2
}
