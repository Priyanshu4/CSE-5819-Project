{
 "cells": [
  {
   "cell_type": "code",
   "execution_count": 1,
   "metadata": {},
   "outputs": [
    {
     "name": "stdout",
     "output_type": "stream",
     "text": [
      "[[1 0 0 ... 1 1 1]\n",
      " [1 0 0 ... 1 1 0]\n",
      " [0 1 1 ... 1 1 1]\n",
      " ...\n",
      " [1 0 0 ... 1 0 1]\n",
      " [0 1 1 ... 0 1 0]\n",
      " [1 0 0 ... 1 0 1]]\n"
     ]
    }
   ],
   "source": [
    "import numpy as np\n",
    "\n",
    "# Generating a random adjacency matrix with 1s and 0s\n",
    "num_rows = 21\n",
    "num_cols = 50\n",
    "\n",
    "adjacency_matrix = np.random.randint(0, 2, size=(num_rows, num_cols))\n",
    "\n",
    "print(adjacency_matrix)\n"
   ]
  },
  {
   "cell_type": "code",
   "execution_count": null,
   "metadata": {},
   "outputs": [],
   "source": []
  }
 ],
 "metadata": {
  "kernelspec": {
   "display_name": "base",
   "language": "python",
   "name": "python3"
  },
  "language_info": {
   "codemirror_mode": {
    "name": "ipython",
    "version": 3
   },
   "file_extension": ".py",
   "mimetype": "text/x-python",
   "name": "python",
   "nbconvert_exporter": "python",
   "pygments_lexer": "ipython3",
   "version": "3.9.18"
  }
 },
 "nbformat": 4,
 "nbformat_minor": 2
}
