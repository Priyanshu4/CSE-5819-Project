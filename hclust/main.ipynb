{
 "cells": [
  {
   "cell_type": "code",
   "execution_count": 82,
   "metadata": {},
   "outputs": [],
   "source": [
    "from scipy.cluster.hierarchy import dendrogram, linkage, fcluster, num_obs_linkage\n",
    "import numpy as np\n",
    "import matplotlib.pyplot as plt\n"
   ]
  },
  {
   "cell_type": "code",
   "execution_count": 86,
   "metadata": {},
   "outputs": [
    {
     "data": {
      "image/png": "[encoded data removed]",
      "text/plain": [
       "<Figure size 432x288 with 1 Axes>"
      ]
     },
     "metadata": {
      "needs_background": "light"
     },
     "output_type": "display_data"
    },
    {
     "name": "stdout",
     "output_type": "stream",
     "text": [
      "Cluster labels: [2 2 2 3 3 3 1 1 1]\n"
     ]
    },
    {
     "data": {
      "image/png": "[encoded data removed]",
      "text/plain": [
       "<Figure size 432x288 with 1 Axes>"
      ]
     },
     "metadata": {
      "needs_background": "light"
     },
     "output_type": "display_data"
    },
    {
     "name": "stdout",
     "output_type": "stream",
     "text": [
      "Cluster labels: [3 3 3 2 2 2 1 1 1 3 3 3 2 2 2 1 1 1 3 3 3]\n"
     ]
    }
   ],
   "source": [
    "def plot_dendrogram(data):\n",
    "    \"\"\"\n",
    "    Plot a dendrogram for hierarchical clustering.\n",
    "    \n",
    "    Parameters:\n",
    "        data (numpy.ndarray): The data for clustering.\n",
    "    \n",
    "    Returns:\n",
    "        None\n",
    "    \"\"\"\n",
    "    # Perform hierarchical clustering\n",
    "    linkage_matrix = linkage(data, method='average')\n",
    "    \n",
    "    # Create the dendrogram\n",
    "    dendrogram(linkage_matrix, orientation='top')\n",
    "    \n",
    "    # Display the plot\n",
    "    plt.title('Hierarchical Clustering Dendrogram')\n",
    "    plt.xlabel('Data Point Index')\n",
    "    plt.ylabel('Distance')\n",
    "    plt.show()\n",
    "\n",
    "def choose_clusters(data):\n",
    "    \"\"\"\n",
    "    Choose the number of clusters interactively from a dendrogram.\n",
    "    \n",
    "    Parameters:\n",
    "        data (numpy.ndarray): The data for clustering.\n",
    "    \n",
    "    Returns:\n",
    "        labels (numpy.ndarray): The cluster labels.\n",
    "    \"\"\"\n",
    "    # Plot the dendrogram\n",
    "    plot_dendrogram(data)\n",
    "    \n",
    "    # Prompt user for the number of clusters\n",
    "    num_clusters = int(input(\"Enter the number of clusters: \"))\n",
    "    \n",
    "    # Perform hierarchical clustering with the chosen number of clusters\n",
    "    linkage_matrix = linkage(data, method='average')\n",
    "    labels = fcluster(linkage_matrix, num_clusters, criterion='maxclust')\n",
    "    return labels\n",
    "\n",
    "# Example usage:\n",
    "data1 = np.array([\n",
    "    [1, 2, 3, 4],\n",
    "    [2, 2, 3, 3],\n",
    "    [2, 3, 4, 4],\n",
    "    [8, 8, 7, 8],\n",
    "    [9, 8, 8, 9],\n",
    "    [9, 9, 8, 10],\n",
    "    [15, 15, 14, 16],\n",
    "    [16, 15, 14, 17],\n",
    "    [16, 16, 15, 17]\n",
    "])\n",
    "\n",
    "data2 = np.array([\n",
    "    [1, 2, 3],\n",
    "    [2, 2, 3],\n",
    "    [2, 3, 4],\n",
    "    [8, 8, 7],\n",
    "    [9, 8, 8],\n",
    "    [9, 9, 8],\n",
    "    [15, 15, 14],\n",
    "    [16, 15, 14],\n",
    "    [16, 16, 15],\n",
    "    [4, 4, 4],\n",
    "    [5, 5, 4],\n",
    "    [6, 5, 4],\n",
    "    [7, 8, 7],\n",
    "    [8, 8, 8],\n",
    "    [8, 9, 9],\n",
    "    [14, 15, 14],\n",
    "    [15, 15, 15],\n",
    "    [15, 16, 16],\n",
    "    [3, 3, 4],\n",
    "    [4, 3, 4],\n",
    "    [4, 4, 3],\n",
    "])\n",
    "\n",
    "# The data now contains 21 data points with 3 features each.\n",
    "\n",
    "cluster_labels = choose_clusters(data1)\n",
    "print(\"Cluster labels:\", cluster_labels)\n",
    "\n",
    "cluster_labels = choose_clusters(data2)\n",
    "print(\"Cluster labels:\", cluster_labels)\n"
   ]
  },
  {
   "cell_type": "code",
   "execution_count": 105,
   "metadata": {},
   "outputs": [
    {
     "data": {
      "image/png": "[encoded data removed]",
      "text/plain": [
       "<Figure size 432x288 with 1 Axes>"
      ]
     },
     "metadata": {
      "needs_background": "light"
     },
     "output_type": "display_data"
    },
    {
     "name": "stdout",
     "output_type": "stream",
     "text": [
      "[2 2 2 2 2 2 1 1 1]\n"
     ]
    }
   ],
   "source": [
    "from scipy.cluster.hierarchy import dendrogram, fcluster, linkage\n",
    "import matplotlib.pyplot as plt\n",
    "\n",
    "# Sample data\n",
    "data = np.array([[1, 2], [2, 2], [2, 3], [8, 8], [9, 8], [9, 9], [15, 15], [16, 15], [16, 16]])\n",
    "\n",
    "# Perform hierarchical clustering and create a dendrogram\n",
    "linkage_matrix = linkage(data, method='average')\n",
    "dendrogram(linkage_matrix, orientation='top')\n",
    "plt.title('Hierarchical Clustering Dendrogram')\n",
    "plt.xlabel('Data Point Index')\n",
    "plt.ylabel('Distance')\n",
    "plt.show()\n",
    "\n",
    "# Choose a height (distance threshold) to cut the dendrogram\n",
    "height_threshold = 10  # Adjust this value based on the dendrogram visualization\n",
    "\n",
    "# Use fcluster to assign data points to clusters\n",
    "cluster_labels = fcluster(linkage_matrix, t=height_threshold, criterion='distance')\n",
    "\n",
    "\n",
    "# Now, cluster_labels contains the cluster assignments for each data point\n",
    "print(cluster_labels)"
   ]
  },
  {
   "cell_type": "code",
   "execution_count": 126,
   "metadata": {},
   "outputs": [
    {
     "data": {
      "image/png": "[encoded data removed]",
      "text/plain": [
       "<Figure size 432x288 with 1 Axes>"
      ]
     },
     "metadata": {
      "needs_background": "light"
     },
     "output_type": "display_data"
    },
    {
     "name": "stdout",
     "output_type": "stream",
     "text": [
      "[8, 6, 7, 2, 0, 1, 5, 3, 4]\n"
     ]
    }
   ],
   "source": [
    "from scipy.cluster.hierarchy import dendrogram, linkage\n",
    "import numpy as np\n",
    "import matplotlib.pyplot as plt\n",
    "\n",
    "# Sample data\n",
    "data = np.array([[1, 2], [2, 2], [2, 3], [8, 8], [9, 8], [9, 9], [15, 15], [16, 15], [16, 16]])\n",
    "\n",
    "# Perform hierarchical clustering and create a dendrogram\n",
    "linkage_matrix = linkage(data, method='ward')\n",
    "dendrogram(linkage_matrix, orientation='top')\n",
    "plt.title('Hierarchical Clustering Dendrogram')\n",
    "plt.xlabel('Data Point Index')\n",
    "plt.ylabel('Distance')\n",
    "plt.show()\n",
    "\n",
    "# Choose a specific branch by its height in the dendrogram\n",
    "# In this example, let's assume we want the branch at height 10\n",
    "specific_height = 5\n",
    "\n",
    "# Find the leaf nodes (data point indices) under the specific branch\n",
    "d = dendrogram(linkage_matrix, no_plot=True)\n",
    "print(d['leaves'])\n",
    "\n"
   ]
  },
  {
   "cell_type": "code",
   "execution_count": 125,
   "metadata": {},
   "outputs": [
    {
     "name": "stdout",
     "output_type": "stream",
     "text": [
      "Cluster assignments based on height threshold 1: [2 2 2 3 3 3 1 1 1]\n",
      "Cluster assignments based on height threshold 2: [2 2 2 3 3 3 1 1 1]\n"
     ]
    }
   ],
   "source": [
    "from scipy.cluster.hierarchy import fcluster, linkage\n",
    "import numpy as np\n",
    "\n",
    "# Sample data\n",
    "data = np.array([[1, 2], [2, 2], [2, 3], [8, 8], [9, 8], [9, 9], [15, 15], [16, 15], [16, 16]])\n",
    "\n",
    "# Perform hierarchical clustering and create a dendrogram\n",
    "linkage_matrix = linkage(data, method='ward')\n",
    "\n",
    "# Define the height thresholds (cutoffs)\n",
    "height_threshold1 = 5\n",
    "height_threshold2 = 15\n",
    "\n",
    "# Use fcluster to assign data points to clusters based on the heights\n",
    "cluster_labels1 = fcluster(linkage_matrix, t=height_threshold1, criterion='distance')\n",
    "cluster_labels2 = fcluster(linkage_matrix, t=height_threshold2, criterion='distance')\n",
    "\n",
    "# Print the cluster assignments\n",
    "print(\"Cluster assignments based on height threshold 1:\", cluster_labels1)\n",
    "print(\"Cluster assignments based on height threshold 2:\", cluster_labels2)\n"
   ]
  },
  {
   "cell_type": "code",
   "execution_count": null,
   "metadata": {},
   "outputs": [],
   "source": []
  },
  {
   "cell_type": "code",
   "execution_count": null,
   "metadata": {},
   "outputs": [],
   "source": []
  }
 ],
 "metadata": {
  "kernelspec": {
   "display_name": "base",
   "language": "python",
   "name": "python3"
  },
  "language_info": {
   "codemirror_mode": {
    "name": "ipython",
    "version": 3
   },
   "file_extension": ".py",
   "mimetype": "text/x-python",
   "name": "python",
   "nbconvert_exporter": "python",
   "pygments_lexer": "ipython3",
   "version": "3.9.12"
  },
  "orig_nbformat": 4
 },
 "nbformat": 4,
 "nbformat_minor": 2
}
