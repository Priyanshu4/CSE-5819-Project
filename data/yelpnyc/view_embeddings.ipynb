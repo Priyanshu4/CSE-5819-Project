{
 "cells": [
  {
   "cell_type": "code",
   "execution_count": 24,
   "metadata": {},
   "outputs": [],
   "source": [
    "import pickle\n",
    "import torch\n",
    "import numpy as np\n",
    "from pathlib import Path"
   ]
  },
  {
   "cell_type": "code",
   "execution_count": 25,
   "metadata": {},
   "outputs": [],
   "source": [
    "embeddings_path = Path('embedded') / 'deepfd' / 'embs_ep10.pkl'\n",
    "labels_path = Path('yelpnyc_labels.pkl')"
   ]
  },
  {
   "cell_type": "code",
   "execution_count": 26,
   "metadata": {},
   "outputs": [],
   "source": [
    "def load_user_embeddings(file: Path):\n",
    "    \"\"\"\n",
    "    Loads user embeddings from a pickle file. The pickle file should contain a 2D numpy array or a torch tensor\n",
    "    with shape (users, features), where each row represents the embedding of a user.\n",
    "\n",
    "    Args:\n",
    "    file_name: A string representing the file path of the pickle file.\n",
    "\n",
    "    Returns:\n",
    "    A numpy array of user embeddings.\n",
    "    \"\"\"\n",
    "    with open(file, \"rb\") as file:\n",
    "        loaded_object = pickle.load(file)\n",
    "        if isinstance(loaded_object, torch.Tensor):\n",
    "            loaded_object = loaded_object.numpy()\n",
    "    return loaded_object"
   ]
  },
  {
   "cell_type": "code",
   "execution_count": 27,
   "metadata": {},
   "outputs": [
    {
     "data": {
      "text/plain": [
       "(160225, 2)"
      ]
     },
     "execution_count": 27,
     "metadata": {},
     "output_type": "execute_result"
    }
   ],
   "source": [
    "embeddings = load_user_embeddings(embeddings_path)\n",
    "labels = np.load(labels_path, allow_pickle=True)\n",
    "np.shape(embeddings)"
   ]
  },
  {
   "cell_type": "code",
   "execution_count": 28,
   "metadata": {},
   "outputs": [
    {
     "data": {
      "image/png": "[encoded data removed]",
      "text/plain": [
       "<Figure size 432x288 with 1 Axes>"
      ]
     },
     "metadata": {
      "needs_background": "light"
     },
     "output_type": "display_data"
    }
   ],
   "source": [
    "import matplotlib.pyplot as plt\n",
    "\n",
    "# create a mask for the labels\n",
    "mask = labels == 1\n",
    "\n",
    "# plot the embeddings\n",
    "plt.scatter(embeddings[:, 0], embeddings[:, 1], c=mask, cmap='RdYlGn')\n",
    "plt.show()"
   ]
  }
 ],
 "metadata": {
  "kernelspec": {
   "display_name": "deepfd-env",
   "language": "python",
   "name": "python3"
  },
  "language_info": {
   "codemirror_mode": {
    "name": "ipython",
    "version": 3
   },
   "file_extension": ".py",
   "mimetype": "text/x-python",
   "name": "python",
   "nbconvert_exporter": "python",
   "pygments_lexer": "ipython3",
   "version": "3.6.8"
  }
 },
 "nbformat": 4,
 "nbformat_minor": 2
}
