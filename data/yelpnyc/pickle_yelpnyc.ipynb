{
 "cells": [
  {
   "cell_type": "code",
   "execution_count": 7,
   "metadata": {},
   "outputs": [],
   "source": [
    "import pandas as pd\n",
    "import numpy as np\n",
    "from scipy.sparse import csr_matrix\n",
    "from pathlib import Path\n",
    "import pickle"
   ]
  },
  {
   "cell_type": "code",
   "execution_count": 8,
   "metadata": {},
   "outputs": [
    {
     "data": {
      "text/html": [
       "<div>\n",
       "<style scoped>\n",
       "    .dataframe tbody tr th:only-of-type {\n",
       "        vertical-align: middle;\n",
       "    }\n",
       "\n",
       "    .dataframe tbody tr th {\n",
       "        vertical-align: top;\n",
       "    }\n",
       "\n",
       "    .dataframe thead th {\n",
       "        text-align: right;\n",
       "    }\n",
       "</style>\n",
       "<table border=\"1\" class=\"dataframe\">\n",
       "  <thead>\n",
       "    <tr style=\"text-align: right;\">\n",
       "      <th></th>\n",
       "      <th>Reviewer_id</th>\n",
       "      <th>Product_id</th>\n",
       "      <th>Rating</th>\n",
       "      <th>Label</th>\n",
       "      <th>Date</th>\n",
       "    </tr>\n",
       "  </thead>\n",
       "  <tbody>\n",
       "    <tr>\n",
       "      <th>0</th>\n",
       "      <td>923</td>\n",
       "      <td>0</td>\n",
       "      <td>3</td>\n",
       "      <td>-1</td>\n",
       "      <td>12/8/2014</td>\n",
       "    </tr>\n",
       "    <tr>\n",
       "      <th>1</th>\n",
       "      <td>924</td>\n",
       "      <td>0</td>\n",
       "      <td>3</td>\n",
       "      <td>-1</td>\n",
       "      <td>5/16/2013</td>\n",
       "    </tr>\n",
       "    <tr>\n",
       "      <th>2</th>\n",
       "      <td>925</td>\n",
       "      <td>0</td>\n",
       "      <td>4</td>\n",
       "      <td>-1</td>\n",
       "      <td>7/1/2013</td>\n",
       "    </tr>\n",
       "    <tr>\n",
       "      <th>3</th>\n",
       "      <td>926</td>\n",
       "      <td>0</td>\n",
       "      <td>4</td>\n",
       "      <td>-1</td>\n",
       "      <td>7/28/2011</td>\n",
       "    </tr>\n",
       "    <tr>\n",
       "      <th>4</th>\n",
       "      <td>927</td>\n",
       "      <td>0</td>\n",
       "      <td>4</td>\n",
       "      <td>-1</td>\n",
       "      <td>11/1/2010</td>\n",
       "    </tr>\n",
       "    <tr>\n",
       "      <th>...</th>\n",
       "      <td>...</td>\n",
       "      <td>...</td>\n",
       "      <td>...</td>\n",
       "      <td>...</td>\n",
       "      <td>...</td>\n",
       "    </tr>\n",
       "    <tr>\n",
       "      <th>359047</th>\n",
       "      <td>161146</td>\n",
       "      <td>349</td>\n",
       "      <td>5</td>\n",
       "      <td>1</td>\n",
       "      <td>2/6/2014</td>\n",
       "    </tr>\n",
       "    <tr>\n",
       "      <th>359048</th>\n",
       "      <td>116424</td>\n",
       "      <td>349</td>\n",
       "      <td>5</td>\n",
       "      <td>1</td>\n",
       "      <td>1/31/2014</td>\n",
       "    </tr>\n",
       "    <tr>\n",
       "      <th>359049</th>\n",
       "      <td>161147</td>\n",
       "      <td>349</td>\n",
       "      <td>5</td>\n",
       "      <td>1</td>\n",
       "      <td>1/30/2014</td>\n",
       "    </tr>\n",
       "    <tr>\n",
       "      <th>359050</th>\n",
       "      <td>97930</td>\n",
       "      <td>349</td>\n",
       "      <td>5</td>\n",
       "      <td>1</td>\n",
       "      <td>1/25/2014</td>\n",
       "    </tr>\n",
       "    <tr>\n",
       "      <th>359051</th>\n",
       "      <td>5260</td>\n",
       "      <td>349</td>\n",
       "      <td>5</td>\n",
       "      <td>1</td>\n",
       "      <td>1/25/2014</td>\n",
       "    </tr>\n",
       "  </tbody>\n",
       "</table>\n",
       "<p>359052 rows × 5 columns</p>\n",
       "</div>"
      ],
      "text/plain": [
       "        Reviewer_id  Product_id  Rating  Label       Date\n",
       "0               923           0       3     -1  12/8/2014\n",
       "1               924           0       3     -1  5/16/2013\n",
       "2               925           0       4     -1   7/1/2013\n",
       "3               926           0       4     -1  7/28/2011\n",
       "4               927           0       4     -1  11/1/2010\n",
       "...             ...         ...     ...    ...        ...\n",
       "359047       161146         349       5      1   2/6/2014\n",
       "359048       116424         349       5      1  1/31/2014\n",
       "359049       161147         349       5      1  1/30/2014\n",
       "359050        97930         349       5      1  1/25/2014\n",
       "359051         5260         349       5      1  1/25/2014\n",
       "\n",
       "[359052 rows x 5 columns]"
      ]
     },
     "execution_count": 8,
     "metadata": {},
     "output_type": "execute_result"
    }
   ],
   "source": [
    "df = pd.read_csv(Path.cwd() / \"yelpnyc\" / \"metadata.csv\")\n",
    "df"
   ]
  },
  {
   "cell_type": "code",
   "execution_count": 9,
   "metadata": {},
   "outputs": [
    {
     "name": "stdout",
     "output_type": "stream",
     "text": [
      "359052 reviews\n",
      "160225 reviewers\n",
      "923 products\n"
     ]
    }
   ],
   "source": [
    "# Create a mapping of unique reviewers and products\n",
    "unique_reviewers = df['Reviewer_id'].unique()\n",
    "unique_products = df['Product_id'].unique()\n",
    "\n",
    "num_reviews = len(df)\n",
    "num_reviewers = len(unique_reviewers)\n",
    "num_products = len(unique_products)\n",
    "\n",
    "print(f\"{num_reviews} reviews\")\n",
    "print(f\"{num_reviewers} reviewers\")\n",
    "print(f\"{num_products} products\")"
   ]
  },
  {
   "cell_type": "code",
   "execution_count": 13,
   "metadata": {},
   "outputs": [
    {
     "name": "stdout",
     "output_type": "stream",
     "text": [
      "(160225, 923)\n"
     ]
    }
   ],
   "source": [
    "# Create dictionaries to map reviewers and products to indices\n",
    "reviewer_to_index = {reviewer: index for index, reviewer in enumerate(unique_reviewers)}\n",
    "product_to_index = {product: index for index, product in enumerate(unique_products)}\n",
    "\n",
    "# Convert the 'Reviewer_id' and 'Product_id' columns to NumPy arrays\n",
    "reviewer_ids = df['Reviewer_id'].apply(lambda x: reviewer_to_index[x]).values\n",
    "product_ids = df['Product_id'].apply(lambda x: product_to_index[x]).values\n",
    "\n",
    "ones = np.ones(num_reviews)\n",
    "\n",
    "adjacency_matrix = csr_matrix((ones, (reviewer_ids, product_ids)), shape=(num_reviewers, num_products))\n",
    "adjacency_matrix.toarray()"
   ]
  },
  {
   "cell_type": "code",
   "execution_count": 11,
   "metadata": {},
   "outputs": [
    {
     "data": {
      "text/plain": [
       "array([1, 1, 1, ..., 0, 0, 0], dtype=int64)"
      ]
     },
     "execution_count": 11,
     "metadata": {},
     "output_type": "execute_result"
    }
   ],
   "source": [
    "# Group the DataFrame by 'user_id' and check if there's any -1 label for each user\n",
    "# A user is classified as fraudulent (label 1) if any reviews are fradulent \n",
    "# Otherwise, a user is classified as non-fraudulent (label 0)\n",
    "grouped = df.groupby('Reviewer_id')['Label'].apply(lambda x: 1 if -1 in x.values else 0)\n",
    "\n",
    "# Reset the index to make the user_id a column again\n",
    "labels = grouped.reset_index()['Label'].to_numpy()\n",
    "labels"
   ]
  },
  {
   "cell_type": "code",
   "execution_count": 12,
   "metadata": {},
   "outputs": [],
   "source": [
    "with open(\"yelpnyc_graph_u2p.pkl\", \"wb\") as file:\n",
    "    pickle.dump(adjacency_matrix, file)\n",
    "\n",
    "with open(\"yelpnyc_labels.pkl\", \"wb\") as file:\n",
    "    pickle.dump(labels, file)"
   ]
  }
 ],
 "metadata": {
  "kernelspec": {
   "display_name": "Python 3",
   "language": "python",
   "name": "python3"
  },
  "language_info": {
   "codemirror_mode": {
    "name": "ipython",
    "version": 3
   },
   "file_extension": ".py",
   "mimetype": "text/x-python",
   "name": "python",
   "nbconvert_exporter": "python",
   "pygments_lexer": "ipython3",
   "version": "3.11.6"
  }
 },
 "nbformat": 4,
 "nbformat_minor": 2
}
