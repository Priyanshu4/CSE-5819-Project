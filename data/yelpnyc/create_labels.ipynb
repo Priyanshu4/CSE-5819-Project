{
 "cells": [
  {
   "cell_type": "code",
   "execution_count": 7,
   "metadata": {},
   "outputs": [],
   "source": [
    "import pandas as pd\n",
    "import numpy as np\n",
    "import pickle"
   ]
  },
  {
   "cell_type": "code",
   "execution_count": 8,
   "metadata": {},
   "outputs": [
    {
     "data": {
      "text/html": [
       "<div>\n",
       "<style scoped>\n",
       "    .dataframe tbody tr th:only-of-type {\n",
       "        vertical-align: middle;\n",
       "    }\n",
       "\n",
       "    .dataframe tbody tr th {\n",
       "        vertical-align: top;\n",
       "    }\n",
       "\n",
       "    .dataframe thead th {\n",
       "        text-align: right;\n",
       "    }\n",
       "</style>\n",
       "<table border=\"1\" class=\"dataframe\">\n",
       "  <thead>\n",
       "    <tr style=\"text-align: right;\">\n",
       "      <th></th>\n",
       "      <th>Reviewer_id</th>\n",
       "      <th>Product_id2</th>\n",
       "      <th>Rating</th>\n",
       "      <th>Label</th>\n",
       "      <th>Date</th>\n",
       "    </tr>\n",
       "  </thead>\n",
       "  <tbody>\n",
       "    <tr>\n",
       "      <th>0</th>\n",
       "      <td>923</td>\n",
       "      <td>0</td>\n",
       "      <td>3</td>\n",
       "      <td>-1</td>\n",
       "      <td>12/8/2014</td>\n",
       "    </tr>\n",
       "    <tr>\n",
       "      <th>1</th>\n",
       "      <td>924</td>\n",
       "      <td>0</td>\n",
       "      <td>3</td>\n",
       "      <td>-1</td>\n",
       "      <td>5/16/2013</td>\n",
       "    </tr>\n",
       "    <tr>\n",
       "      <th>2</th>\n",
       "      <td>925</td>\n",
       "      <td>0</td>\n",
       "      <td>4</td>\n",
       "      <td>-1</td>\n",
       "      <td>7/1/2013</td>\n",
       "    </tr>\n",
       "    <tr>\n",
       "      <th>3</th>\n",
       "      <td>926</td>\n",
       "      <td>0</td>\n",
       "      <td>4</td>\n",
       "      <td>-1</td>\n",
       "      <td>7/28/2011</td>\n",
       "    </tr>\n",
       "    <tr>\n",
       "      <th>4</th>\n",
       "      <td>927</td>\n",
       "      <td>0</td>\n",
       "      <td>4</td>\n",
       "      <td>-1</td>\n",
       "      <td>11/1/2010</td>\n",
       "    </tr>\n",
       "    <tr>\n",
       "      <th>...</th>\n",
       "      <td>...</td>\n",
       "      <td>...</td>\n",
       "      <td>...</td>\n",
       "      <td>...</td>\n",
       "      <td>...</td>\n",
       "    </tr>\n",
       "    <tr>\n",
       "      <th>359047</th>\n",
       "      <td>161146</td>\n",
       "      <td>349</td>\n",
       "      <td>5</td>\n",
       "      <td>1</td>\n",
       "      <td>2/6/2014</td>\n",
       "    </tr>\n",
       "    <tr>\n",
       "      <th>359048</th>\n",
       "      <td>116424</td>\n",
       "      <td>349</td>\n",
       "      <td>5</td>\n",
       "      <td>1</td>\n",
       "      <td>1/31/2014</td>\n",
       "    </tr>\n",
       "    <tr>\n",
       "      <th>359049</th>\n",
       "      <td>161147</td>\n",
       "      <td>349</td>\n",
       "      <td>5</td>\n",
       "      <td>1</td>\n",
       "      <td>1/30/2014</td>\n",
       "    </tr>\n",
       "    <tr>\n",
       "      <th>359050</th>\n",
       "      <td>97930</td>\n",
       "      <td>349</td>\n",
       "      <td>5</td>\n",
       "      <td>1</td>\n",
       "      <td>1/25/2014</td>\n",
       "    </tr>\n",
       "    <tr>\n",
       "      <th>359051</th>\n",
       "      <td>5260</td>\n",
       "      <td>349</td>\n",
       "      <td>5</td>\n",
       "      <td>1</td>\n",
       "      <td>1/25/2014</td>\n",
       "    </tr>\n",
       "  </tbody>\n",
       "</table>\n",
       "<p>359052 rows × 5 columns</p>\n",
       "</div>"
      ],
      "text/plain": [
       "        Reviewer_id  Product_id2  Rating  Label       Date\n",
       "0               923            0       3     -1  12/8/2014\n",
       "1               924            0       3     -1  5/16/2013\n",
       "2               925            0       4     -1   7/1/2013\n",
       "3               926            0       4     -1  7/28/2011\n",
       "4               927            0       4     -1  11/1/2010\n",
       "...             ...          ...     ...    ...        ...\n",
       "359047       161146          349       5      1   2/6/2014\n",
       "359048       116424          349       5      1  1/31/2014\n",
       "359049       161147          349       5      1  1/30/2014\n",
       "359050        97930          349       5      1  1/25/2014\n",
       "359051         5260          349       5      1  1/25/2014\n",
       "\n",
       "[359052 rows x 5 columns]"
      ]
     },
     "execution_count": 8,
     "metadata": {},
     "output_type": "execute_result"
    }
   ],
   "source": [
    "meta = pd.read_csv(\"yelpnyc/metadata.csv\")\n",
    "meta"
   ]
  },
  {
   "cell_type": "code",
   "execution_count": 9,
   "metadata": {},
   "outputs": [
    {
     "name": "stdout",
     "output_type": "stream",
     "text": [
      "[1 1 1 ... 0 0 0]\n"
     ]
    }
   ],
   "source": [
    "labelsraw = meta['Label'].to_numpy()\n",
    "\n",
    "def change(x):\n",
    "    if x==-1:\n",
    "        return 1\n",
    "    return 0\n",
    "    \n",
    "labels = np.vectorize(change)(labelsraw)\n",
    "print(labels)"
   ]
  },
  {
   "cell_type": "code",
   "execution_count": 10,
   "metadata": {},
   "outputs": [],
   "source": [
    "with open(\"labels.pickle\", \"wb\") as file:\n",
    "    pickle.dump(labels, file)\n"
   ]
  },
  {
   "cell_type": "code",
   "execution_count": null,
   "metadata": {},
   "outputs": [],
   "source": []
  }
 ],
 "metadata": {
  "kernelspec": {
   "display_name": "base",
   "language": "python",
   "name": "python3"
  },
  "language_info": {
   "codemirror_mode": {
    "name": "ipython",
    "version": 3
   },
   "file_extension": ".py",
   "mimetype": "text/x-python",
   "name": "python",
   "nbconvert_exporter": "python",
   "pygments_lexer": "ipython3",
   "version": "3.9.12"
  },
  "orig_nbformat": 4
 },
 "nbformat": 4,
 "nbformat_minor": 2
}
